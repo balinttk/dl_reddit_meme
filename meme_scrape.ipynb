{
 "cells": [
  {
   "cell_type": "code",
   "execution_count": 1,
   "id": "ed469217",
   "metadata": {},
   "outputs": [],
   "source": [
    "#!pip install praw \n",
    "#!pip install psaw"
   ]
  },
  {
   "cell_type": "code",
   "execution_count": 1,
   "id": "b51d933b",
   "metadata": {},
   "outputs": [],
   "source": [
    "import praw\n",
    "from psaw import PushshiftAPI\n",
    "from datetime import datetime, timedelta\n",
    "import requests\n",
    "import urllib.request, urllib.error"
   ]
  },
  {
   "cell_type": "code",
   "execution_count": 2,
   "id": "845cff9c",
   "metadata": {},
   "outputs": [],
   "source": [
    "reddit = praw.Reddit(client_id = 'YOUR-ID', \n",
    "                     client_secret = 'YOUR_SECRET_ID', \n",
    "                     user_agent = 'USER_AGENT')\n",
    "\n",
    "reddit=PushshiftAPI(reddit)"
   ]
  },
  {
   "cell_type": "code",
   "execution_count": 3,
   "id": "8215af24",
   "metadata": {},
   "outputs": [],
   "source": [
    "#Asszem magától értetődő\n",
    "generator = reddit.search_submissions(limit=10,\n",
    "                                      subreddit='memes',\n",
    "                                      after=int(datetime.strptime('2018.09.08.', '%Y.%m.%d.').timestamp()),\n",
    "                                      before=int(datetime.strptime('2018.09.12.', '%Y.%m.%d.').timestamp()))"
   ]
  },
  {
   "cell_type": "code",
   "execution_count": 8,
   "id": "850005d4",
   "metadata": {},
   "outputs": [],
   "source": [
    "for i in generator:\n",
    "    print(i.url)\n",
    "    print(i.ups)\n",
    "    print('\\n')"
   ]
  },
  {
   "cell_type": "code",
   "execution_count": 5,
   "id": "1260ad00",
   "metadata": {},
   "outputs": [],
   "source": [
    "def download_memes(start,end):\n",
    "    start_date=start\n",
    "    end_date=end\n",
    "    while True:\n",
    "        t=0\n",
    "        generator = reddit.search_submissions(limit=250,\n",
    "                                      subreddit='memes',\n",
    "                                      after=int(start_date.timestamp()),\n",
    "                                      before=int((start_date+timedelta(days=1)).timestamp()))\n",
    "        for post in generator:\n",
    "            try: \n",
    "                temp_var = urllib.request.urlopen(post.url)\n",
    "                \n",
    "            except:\n",
    "                continue\n",
    "                \n",
    "            #except urllib.error.HTTPError as httpErr:\n",
    "                #print(post.url)\n",
    "                #print('HTTP', httpErr.code, 'ERROR \\n')\n",
    "                #continue\n",
    "            \n",
    "            #except urllib.error.URLError as urlErr:\n",
    "                #print(post.url)\n",
    "                #print('URL', urlErr.reason, 'ERROR \\n')\n",
    "                #continue\n",
    "                \n",
    "                \n",
    "            try:\n",
    "                img_data = requests.get(post.url).content\n",
    "                if post.url[-3:] in ['jpg', 'png', 'bmp', 'jpeg', 'tiff', 'svg']:\n",
    "                    if post.selftext.replace(\";\",\",\") == '[deleted]': \n",
    "                        continue\n",
    "                    #print(post.url, '\\n')\n",
    "                    if (requests.get(post.url).url == 'https://i.imgur.com/removed.png') or (requests.get(post.url).url == 'http://www.noelshack.com/'):\n",
    "                        continue\n",
    "                    #print(post.selftext.replace(\";\",\",\"))\n",
    "                    with open(f'{datetime.strftime(start_date,\"%Y.%m.%d\")}_{t}.png', 'wb') as handler:\n",
    "                        handler.write(img_data)\n",
    "                        \n",
    "                    with open('memes.csv','a') as fd:\n",
    "                        fd.write(f'\"{datetime.strftime(start_date,\"%Y.%m.%d\")}_{t}\";\"{post.title.replace(\";\",\",\")}\";\"{post.selftext.replace(\";\",\",\")}\";{str(post.score).strip()}\\n')\n",
    "                        #fd.write(f'\"{datetime.strftime(start_date,\"%Y.%m.%d\")}_{t}\";\"{post.title.replace(\";\",\",\")}\";{str(post.score).strip()}\\n')\n",
    "                    t+=1\n",
    "                    \n",
    "                else: \n",
    "                    continue \n",
    "            except:\n",
    "                continue\n",
    "        start_date=start_date+timedelta(days=1)\n",
    "        if start_date==end_date:\n",
    "            break"
   ]
  },
  {
   "cell_type": "code",
   "execution_count": 7,
   "id": "ac720126",
   "metadata": {},
   "outputs": [],
   "source": [
    "download_memes(datetime.strptime('2011.10.02.', '%Y.%m.%d.'), datetime.strptime('2011.10.31.', '%Y.%m.%d.'))"
   ]
  },
  {
   "cell_type": "code",
   "execution_count": null,
   "id": "4aaee238",
   "metadata": {},
   "outputs": [],
   "source": []
  }
 ],
 "metadata": {
  "kernelspec": {
   "display_name": "Python 3 (ipykernel)",
   "language": "python",
   "name": "python3"
  },
  "language_info": {
   "codemirror_mode": {
    "name": "ipython",
    "version": 3
   },
   "file_extension": ".py",
   "mimetype": "text/x-python",
   "name": "python",
   "nbconvert_exporter": "python",
   "pygments_lexer": "ipython3",
   "version": "3.8.10"
  }
 },
 "nbformat": 4,
 "nbformat_minor": 5
}
