{
 "cells": [
  {
   "cell_type": "markdown",
   "id": "close-classics",
   "metadata": {},
   "source": [
    "# Exploratory data analysis ahead of the first milestone"
   ]
  },
  {
   "cell_type": "markdown",
   "id": "a5499efd",
   "metadata": {},
   "source": [
    "[![Open In Colab](https://colab.research.google.com/assets/colab-badge.svg)](https://colab.research.google.com/github/pvh95/dl_reddit_meme/blob/main/memes_exploratory.ipynb)"
   ]
  },
  {
   "cell_type": "code",
   "execution_count": 1,
   "id": "sorted-crack",
   "metadata": {
    "execution": {
     "iopub.execute_input": "2021-11-01T08:24:22.814487Z",
     "iopub.status.busy": "2021-11-01T08:24:22.813595Z",
     "iopub.status.idle": "2021-11-01T08:24:23.594628Z",
     "shell.execute_reply": "2021-11-01T08:24:23.593810Z"
    }
   },
   "outputs": [
    {
     "name": "stdout",
     "output_type": "stream",
     "text": [
      "pandas: 1.3.4\n"
     ]
    }
   ],
   "source": [
    "import pandas as pd\n",
    "print(\"pandas: {}\".format(pd.__version__))\n",
    "\n",
    "import matplotlib.pyplot as plt"
   ]
  },
  {
   "cell_type": "markdown",
   "id": "prospective-composition",
   "metadata": {},
   "source": [
    "**Reading in the memes.csv**\n",
    "\n",
    "memes.csv is the text information output of our scraping tool"
   ]
  },
  {
   "cell_type": "code",
   "execution_count": 2,
   "id": "d059f501",
   "metadata": {
    "execution": {
     "iopub.execute_input": "2021-11-01T08:24:23.604813Z",
     "iopub.status.busy": "2021-11-01T08:24:23.601702Z",
     "iopub.status.idle": "2021-11-01T08:24:24.106552Z",
     "shell.execute_reply": "2021-11-01T08:24:24.107286Z"
    }
   },
   "outputs": [],
   "source": [
    "memes = pd.read_csv('./output/memes.csv')\n"
   ]
  },
  {
   "cell_type": "code",
   "execution_count": 3,
   "id": "a601fbc1",
   "metadata": {
    "execution": {
     "iopub.execute_input": "2021-11-01T08:24:24.116374Z",
     "iopub.status.busy": "2021-11-01T08:24:24.115580Z",
     "iopub.status.idle": "2021-11-01T08:24:24.129896Z",
     "shell.execute_reply": "2021-11-01T08:24:24.130423Z"
    }
   },
   "outputs": [
    {
     "data": {
      "text/html": [
       "<div>\n",
       "<style scoped>\n",
       "    .dataframe tbody tr th:only-of-type {\n",
       "        vertical-align: middle;\n",
       "    }\n",
       "\n",
       "    .dataframe tbody tr th {\n",
       "        vertical-align: top;\n",
       "    }\n",
       "\n",
       "    .dataframe thead th {\n",
       "        text-align: right;\n",
       "    }\n",
       "</style>\n",
       "<table border=\"1\" class=\"dataframe\">\n",
       "  <thead>\n",
       "    <tr style=\"text-align: right;\">\n",
       "      <th></th>\n",
       "      <th>id</th>\n",
       "      <th>title</th>\n",
       "      <th>score</th>\n",
       "      <th>fname</th>\n",
       "    </tr>\n",
       "  </thead>\n",
       "  <tbody>\n",
       "    <tr>\n",
       "      <th>0</th>\n",
       "      <td>2011.02.16_0</td>\n",
       "      <td>Scumbag Reddit</td>\n",
       "      <td>0</td>\n",
       "      <td>2011.02.16_0.jpg</td>\n",
       "    </tr>\n",
       "    <tr>\n",
       "      <th>1</th>\n",
       "      <td>2011.03.15_0</td>\n",
       "      <td>Xpost from pics. Oriental-Stereotype Wolf.</td>\n",
       "      <td>5</td>\n",
       "      <td>2011.03.15_0.jpg</td>\n",
       "    </tr>\n",
       "    <tr>\n",
       "      <th>2</th>\n",
       "      <td>2011.04.30_0</td>\n",
       "      <td>Hipster Vault Boy</td>\n",
       "      <td>1</td>\n",
       "      <td>2011.04.30_0.jpg</td>\n",
       "    </tr>\n",
       "    <tr>\n",
       "      <th>3</th>\n",
       "      <td>2011.06.20_0</td>\n",
       "      <td>I drew this for a friend while having a conver...</td>\n",
       "      <td>0</td>\n",
       "      <td>2011.06.20_0.png</td>\n",
       "    </tr>\n",
       "    <tr>\n",
       "      <th>4</th>\n",
       "      <td>2011.06.22_0</td>\n",
       "      <td>Pai Troll</td>\n",
       "      <td>1</td>\n",
       "      <td>2011.06.22_0.jpg</td>\n",
       "    </tr>\n",
       "    <tr>\n",
       "      <th>...</th>\n",
       "      <td>...</td>\n",
       "      <td>...</td>\n",
       "      <td>...</td>\n",
       "      <td>...</td>\n",
       "    </tr>\n",
       "    <tr>\n",
       "      <th>258310</th>\n",
       "      <td>2021.10.16_156</td>\n",
       "      <td>A rare siting of Ups trucks mating in the wild.</td>\n",
       "      <td>37</td>\n",
       "      <td>2021.10.16_156.png</td>\n",
       "    </tr>\n",
       "    <tr>\n",
       "      <th>258311</th>\n",
       "      <td>2021.10.16_157</td>\n",
       "      <td>Majestic eagles.</td>\n",
       "      <td>19</td>\n",
       "      <td>2021.10.16_157.png</td>\n",
       "    </tr>\n",
       "    <tr>\n",
       "      <th>258312</th>\n",
       "      <td>2021.10.16_158</td>\n",
       "      <td>This is what you get when you search 139808. J...</td>\n",
       "      <td>1</td>\n",
       "      <td>2021.10.16_158.png</td>\n",
       "    </tr>\n",
       "    <tr>\n",
       "      <th>258313</th>\n",
       "      <td>2021.10.16_159</td>\n",
       "      <td>looping in the life be like...</td>\n",
       "      <td>25</td>\n",
       "      <td>2021.10.16_159.png</td>\n",
       "    </tr>\n",
       "    <tr>\n",
       "      <th>258314</th>\n",
       "      <td>2021.10.16_160</td>\n",
       "      <td>Scheduling my next appointment</td>\n",
       "      <td>46</td>\n",
       "      <td>2021.10.16_160.png</td>\n",
       "    </tr>\n",
       "  </tbody>\n",
       "</table>\n",
       "<p>258315 rows × 4 columns</p>\n",
       "</div>"
      ],
      "text/plain": [
       "                    id                                              title  \\\n",
       "0         2011.02.16_0                                     Scumbag Reddit   \n",
       "1         2011.03.15_0         Xpost from pics. Oriental-Stereotype Wolf.   \n",
       "2         2011.04.30_0                                  Hipster Vault Boy   \n",
       "3         2011.06.20_0  I drew this for a friend while having a conver...   \n",
       "4         2011.06.22_0                                          Pai Troll   \n",
       "...                ...                                                ...   \n",
       "258310  2021.10.16_156    A rare siting of Ups trucks mating in the wild.   \n",
       "258311  2021.10.16_157                                   Majestic eagles.   \n",
       "258312  2021.10.16_158  This is what you get when you search 139808. J...   \n",
       "258313  2021.10.16_159                     looping in the life be like...   \n",
       "258314  2021.10.16_160                     Scheduling my next appointment   \n",
       "\n",
       "        score               fname  \n",
       "0           0    2011.02.16_0.jpg  \n",
       "1           5    2011.03.15_0.jpg  \n",
       "2           1    2011.04.30_0.jpg  \n",
       "3           0    2011.06.20_0.png  \n",
       "4           1    2011.06.22_0.jpg  \n",
       "...       ...                 ...  \n",
       "258310     37  2021.10.16_156.png  \n",
       "258311     19  2021.10.16_157.png  \n",
       "258312      1  2021.10.16_158.png  \n",
       "258313     25  2021.10.16_159.png  \n",
       "258314     46  2021.10.16_160.png  \n",
       "\n",
       "[258315 rows x 4 columns]"
      ]
     },
     "execution_count": 3,
     "metadata": {},
     "output_type": "execute_result"
    }
   ],
   "source": [
    "memes"
   ]
  },
  {
   "cell_type": "markdown",
   "id": "received-classics",
   "metadata": {},
   "source": [
    "**Number of memes scraped**"
   ]
  },
  {
   "cell_type": "code",
   "execution_count": 4,
   "id": "infectious-rendering",
   "metadata": {
    "execution": {
     "iopub.execute_input": "2021-11-01T08:24:24.139370Z",
     "iopub.status.busy": "2021-11-01T08:24:24.138198Z",
     "iopub.status.idle": "2021-11-01T08:24:24.142503Z",
     "shell.execute_reply": "2021-11-01T08:24:24.141584Z"
    }
   },
   "outputs": [
    {
     "name": "stdout",
     "output_type": "stream",
     "text": [
      "258315 memes between 2011.01.01 and 2021.10.16\n"
     ]
    }
   ],
   "source": [
    "print(str(len(memes))+\" memes between 2011.01.01 and 2021.10.16\")"
   ]
  },
  {
   "cell_type": "markdown",
   "id": "finnish-medicine",
   "metadata": {},
   "source": [
    "**Transforming the concatenated dataset**"
   ]
  },
  {
   "cell_type": "code",
   "execution_count": 5,
   "id": "cosmetic-gilbert",
   "metadata": {
    "execution": {
     "iopub.execute_input": "2021-11-01T08:24:24.189786Z",
     "iopub.status.busy": "2021-11-01T08:24:24.163891Z",
     "iopub.status.idle": "2021-11-01T08:24:24.323721Z",
     "shell.execute_reply": "2021-11-01T08:24:24.324649Z"
    }
   },
   "outputs": [
    {
     "data": {
      "text/html": [
       "<div>\n",
       "<style scoped>\n",
       "    .dataframe tbody tr th:only-of-type {\n",
       "        vertical-align: middle;\n",
       "    }\n",
       "\n",
       "    .dataframe tbody tr th {\n",
       "        vertical-align: top;\n",
       "    }\n",
       "\n",
       "    .dataframe thead th {\n",
       "        text-align: right;\n",
       "    }\n",
       "</style>\n",
       "<table border=\"1\" class=\"dataframe\">\n",
       "  <thead>\n",
       "    <tr style=\"text-align: right;\">\n",
       "      <th></th>\n",
       "      <th>id</th>\n",
       "      <th>title</th>\n",
       "      <th>score</th>\n",
       "      <th>fname</th>\n",
       "      <th>date</th>\n",
       "    </tr>\n",
       "  </thead>\n",
       "  <tbody>\n",
       "    <tr>\n",
       "      <th>0</th>\n",
       "      <td>2011.02.16_0</td>\n",
       "      <td>Scumbag Reddit</td>\n",
       "      <td>0</td>\n",
       "      <td>2011.02.16_0.jpg</td>\n",
       "      <td>2011-02-16</td>\n",
       "    </tr>\n",
       "    <tr>\n",
       "      <th>1</th>\n",
       "      <td>2011.03.15_0</td>\n",
       "      <td>Xpost from pics. Oriental-Stereotype Wolf.</td>\n",
       "      <td>5</td>\n",
       "      <td>2011.03.15_0.jpg</td>\n",
       "      <td>2011-03-15</td>\n",
       "    </tr>\n",
       "    <tr>\n",
       "      <th>2</th>\n",
       "      <td>2011.04.30_0</td>\n",
       "      <td>Hipster Vault Boy</td>\n",
       "      <td>1</td>\n",
       "      <td>2011.04.30_0.jpg</td>\n",
       "      <td>2011-04-30</td>\n",
       "    </tr>\n",
       "    <tr>\n",
       "      <th>3</th>\n",
       "      <td>2011.06.20_0</td>\n",
       "      <td>I drew this for a friend while having a conver...</td>\n",
       "      <td>0</td>\n",
       "      <td>2011.06.20_0.png</td>\n",
       "      <td>2011-06-20</td>\n",
       "    </tr>\n",
       "    <tr>\n",
       "      <th>4</th>\n",
       "      <td>2011.06.22_0</td>\n",
       "      <td>Pai Troll</td>\n",
       "      <td>1</td>\n",
       "      <td>2011.06.22_0.jpg</td>\n",
       "      <td>2011-06-22</td>\n",
       "    </tr>\n",
       "  </tbody>\n",
       "</table>\n",
       "</div>"
      ],
      "text/plain": [
       "             id                                              title  score  \\\n",
       "0  2011.02.16_0                                     Scumbag Reddit      0   \n",
       "1  2011.03.15_0         Xpost from pics. Oriental-Stereotype Wolf.      5   \n",
       "2  2011.04.30_0                                  Hipster Vault Boy      1   \n",
       "3  2011.06.20_0  I drew this for a friend while having a conver...      0   \n",
       "4  2011.06.22_0                                          Pai Troll      1   \n",
       "\n",
       "              fname       date  \n",
       "0  2011.02.16_0.jpg 2011-02-16  \n",
       "1  2011.03.15_0.jpg 2011-03-15  \n",
       "2  2011.04.30_0.jpg 2011-04-30  \n",
       "3  2011.06.20_0.png 2011-06-20  \n",
       "4  2011.06.22_0.jpg 2011-06-22  "
      ]
     },
     "execution_count": 5,
     "metadata": {},
     "output_type": "execute_result"
    }
   ],
   "source": [
    "memes['date'] = memes['id'].str[:10]\n",
    "memes['date'] = pd.to_datetime(memes['date'])\n",
    "memes.head()"
   ]
  },
  {
   "cell_type": "markdown",
   "id": "hungry-sense",
   "metadata": {},
   "source": [
    "Columns of this dataset:\n",
    "- **id** - unique identifier of each picture;\n",
    "- **title** - the title of the picture scraped with the image;\n",
    "- **score** - the number of score the meme received; \n",
    "- **date** - the day on which the meme was posted;"
   ]
  },
  {
   "cell_type": "markdown",
   "id": "christian-august",
   "metadata": {},
   "source": [
    "**Scatterplot - daily frequency of memes**"
   ]
  },
  {
   "cell_type": "markdown",
   "id": "fa56ee1c",
   "metadata": {},
   "source": [
    "As we could see from the plot there are no instances from 2013. Turns out that the Reddit Api generator couldn't scrape any memes from 2013."
   ]
  },
  {
   "cell_type": "code",
   "execution_count": 6,
   "id": "signal-complexity",
   "metadata": {
    "execution": {
     "iopub.execute_input": "2021-11-01T08:24:24.455684Z",
     "iopub.status.busy": "2021-11-01T08:24:24.454626Z",
     "iopub.status.idle": "2021-11-01T08:24:24.827599Z",
     "shell.execute_reply": "2021-11-01T08:24:24.828227Z"
    }
   },
   "outputs": [
    {
     "data": {
      "image/png": "[encoded data removed]",
      "text/plain": [
       "<Figure size 864x432 with 1 Axes>"
      ]
     },
     "metadata": {
      "needs_background": "light"
     },
     "output_type": "display_data"
    }
   ],
   "source": [
    "memes['date'].dt.date.value_counts().plot(style='.',figsize=(12, 6))\n",
    "plt.title('Daily frequency of scraped memes between 2011 and 2021')\n",
    "plt.xlabel('Date of meme')\n",
    "plt.ylabel('Frequency of memes on a day')\n",
    "plt.show()"
   ]
  },
  {
   "cell_type": "markdown",
   "id": "labeled-champagne",
   "metadata": {},
   "source": [
    "**Bar chart - yearly frequency of memes**"
   ]
  },
  {
   "cell_type": "code",
   "execution_count": 7,
   "id": "changing-closer",
   "metadata": {
    "execution": {
     "iopub.execute_input": "2021-11-01T08:24:24.838823Z",
     "iopub.status.busy": "2021-11-01T08:24:24.837796Z",
     "iopub.status.idle": "2021-11-01T08:24:25.059549Z",
     "shell.execute_reply": "2021-11-01T08:24:25.058740Z"
    }
   },
   "outputs": [
    {
     "data": {
      "image/png": "[encoded data removed]",
      "text/plain": [
       "<Figure size 864x432 with 1 Axes>"
      ]
     },
     "metadata": {
      "needs_background": "light"
     },
     "output_type": "display_data"
    }
   ],
   "source": [
    "memes['date'].dt.year.value_counts().sort_index(ascending=True).plot(kind='bar',figsize=(12, 6))\n",
    "plt.title('Yearly frequency of scraped memes between 2011 and 2021')\n",
    "plt.xlabel('Year')\n",
    "plt.ylabel('Frequency of memes in the year')\n",
    "plt.show()"
   ]
  },
  {
   "cell_type": "markdown",
   "id": "personal-argument",
   "metadata": {},
   "source": [
    "**The ten most popular meme from the ten year scraping interval**\n",
    "\n",
    "Notice how nine of them is from 2020, only one from 2019, none from earlier."
   ]
  },
  {
   "cell_type": "code",
   "execution_count": 8,
   "id": "assigned-cradle",
   "metadata": {
    "execution": {
     "iopub.execute_input": "2021-11-01T08:24:25.066236Z",
     "iopub.status.busy": "2021-11-01T08:24:25.065454Z",
     "iopub.status.idle": "2021-11-01T08:24:25.109157Z",
     "shell.execute_reply": "2021-11-01T08:24:25.108541Z"
    }
   },
   "outputs": [
    {
     "data": {
      "text/html": [
       "<div>\n",
       "<style scoped>\n",
       "    .dataframe tbody tr th:only-of-type {\n",
       "        vertical-align: middle;\n",
       "    }\n",
       "\n",
       "    .dataframe tbody tr th {\n",
       "        vertical-align: top;\n",
       "    }\n",
       "\n",
       "    .dataframe thead th {\n",
       "        text-align: right;\n",
       "    }\n",
       "</style>\n",
       "<table border=\"1\" class=\"dataframe\">\n",
       "  <thead>\n",
       "    <tr style=\"text-align: right;\">\n",
       "      <th></th>\n",
       "      <th>id</th>\n",
       "      <th>title</th>\n",
       "      <th>score</th>\n",
       "      <th>fname</th>\n",
       "      <th>date</th>\n",
       "    </tr>\n",
       "  </thead>\n",
       "  <tbody>\n",
       "    <tr>\n",
       "      <th>193933</th>\n",
       "      <td>2020.08.03_109</td>\n",
       "      <td>Can we please just let this meme die already?</td>\n",
       "      <td>147454</td>\n",
       "      <td>2020.08.03_109.png</td>\n",
       "      <td>2020-08-03</td>\n",
       "    </tr>\n",
       "    <tr>\n",
       "      <th>226673</th>\n",
       "      <td>2021.03.15_77</td>\n",
       "      <td>pizza time stops</td>\n",
       "      <td>144751</td>\n",
       "      <td>2021.03.15_77.png</td>\n",
       "      <td>2021-03-15</td>\n",
       "    </tr>\n",
       "    <tr>\n",
       "      <th>209899</th>\n",
       "      <td>2020.11.17_136</td>\n",
       "      <td>More like physics but whatever.</td>\n",
       "      <td>140155</td>\n",
       "      <td>2020.11.17_136.png</td>\n",
       "      <td>2020-11-17</td>\n",
       "    </tr>\n",
       "    <tr>\n",
       "      <th>212674</th>\n",
       "      <td>2020.12.06_72</td>\n",
       "      <td>I do it every time</td>\n",
       "      <td>134602</td>\n",
       "      <td>2020.12.06_72.png</td>\n",
       "      <td>2020-12-06</td>\n",
       "    </tr>\n",
       "    <tr>\n",
       "      <th>219191</th>\n",
       "      <td>2021.01.19_9</td>\n",
       "      <td>Brrrrr 🪳</td>\n",
       "      <td>131969</td>\n",
       "      <td>2021.01.19_9.png</td>\n",
       "      <td>2021-01-19</td>\n",
       "    </tr>\n",
       "    <tr>\n",
       "      <th>234818</th>\n",
       "      <td>2021.05.21_22</td>\n",
       "      <td>Excuse me but wtf</td>\n",
       "      <td>130923</td>\n",
       "      <td>2021.05.21_22.png</td>\n",
       "      <td>2021-05-21</td>\n",
       "    </tr>\n",
       "    <tr>\n",
       "      <th>237348</th>\n",
       "      <td>2021.06.07_23</td>\n",
       "      <td>Damn you Microsoft Word!!!</td>\n",
       "      <td>124533</td>\n",
       "      <td>2021.06.07_23.png</td>\n",
       "      <td>2021-06-07</td>\n",
       "    </tr>\n",
       "    <tr>\n",
       "      <th>216801</th>\n",
       "      <td>2021.01.02_144</td>\n",
       "      <td>Checkmate</td>\n",
       "      <td>121067</td>\n",
       "      <td>2021.01.02_144.png</td>\n",
       "      <td>2021-01-02</td>\n",
       "    </tr>\n",
       "    <tr>\n",
       "      <th>232593</th>\n",
       "      <td>2021.05.06_28</td>\n",
       "      <td>Thanos did it for Death</td>\n",
       "      <td>119228</td>\n",
       "      <td>2021.05.06_28.png</td>\n",
       "      <td>2021-05-06</td>\n",
       "    </tr>\n",
       "    <tr>\n",
       "      <th>180617</th>\n",
       "      <td>2020.05.05_13</td>\n",
       "      <td>It is quite the big sad</td>\n",
       "      <td>118953</td>\n",
       "      <td>2020.05.05_13.png</td>\n",
       "      <td>2020-05-05</td>\n",
       "    </tr>\n",
       "  </tbody>\n",
       "</table>\n",
       "</div>"
      ],
      "text/plain": [
       "                    id                                          title   score  \\\n",
       "193933  2020.08.03_109  Can we please just let this meme die already?  147454   \n",
       "226673   2021.03.15_77                               pizza time stops  144751   \n",
       "209899  2020.11.17_136                More like physics but whatever.  140155   \n",
       "212674   2020.12.06_72                             I do it every time  134602   \n",
       "219191    2021.01.19_9                                       Brrrrr 🪳  131969   \n",
       "234818   2021.05.21_22                              Excuse me but wtf  130923   \n",
       "237348   2021.06.07_23                     Damn you Microsoft Word!!!  124533   \n",
       "216801  2021.01.02_144                                      Checkmate  121067   \n",
       "232593   2021.05.06_28                        Thanos did it for Death  119228   \n",
       "180617   2020.05.05_13                        It is quite the big sad  118953   \n",
       "\n",
       "                     fname       date  \n",
       "193933  2020.08.03_109.png 2020-08-03  \n",
       "226673   2021.03.15_77.png 2021-03-15  \n",
       "209899  2020.11.17_136.png 2020-11-17  \n",
       "212674   2020.12.06_72.png 2020-12-06  \n",
       "219191    2021.01.19_9.png 2021-01-19  \n",
       "234818   2021.05.21_22.png 2021-05-21  \n",
       "237348   2021.06.07_23.png 2021-06-07  \n",
       "216801  2021.01.02_144.png 2021-01-02  \n",
       "232593   2021.05.06_28.png 2021-05-06  \n",
       "180617   2020.05.05_13.png 2020-05-05  "
      ]
     },
     "execution_count": 8,
     "metadata": {},
     "output_type": "execute_result"
    }
   ],
   "source": [
    "memes.sort_values('score', ascending=False).head(10)"
   ]
  },
  {
   "cell_type": "markdown",
   "id": "induced-might",
   "metadata": {},
   "source": [
    "**Analysis of the distribution among scores**\n",
    "\n",
    "*Analyzing different thresholds (how many memes have more than 100k, 10k etc. scores)*"
   ]
  },
  {
   "cell_type": "code",
   "execution_count": 9,
   "id": "collect-whole",
   "metadata": {
    "execution": {
     "iopub.execute_input": "2021-11-01T08:24:25.162639Z",
     "iopub.status.busy": "2021-11-01T08:24:25.128638Z",
     "iopub.status.idle": "2021-11-01T08:24:25.309785Z",
     "shell.execute_reply": "2021-11-01T08:24:25.309326Z"
    }
   },
   "outputs": [
    {
     "name": "stdout",
     "output_type": "stream",
     "text": [
      "17 memes have more than 100000 scores, 0.01% of the dataset.\n",
      "3097 memes have more than 10000 scores, 1.20% of the dataset.\n",
      "11733 memes have more than 1000 scores, 4.54% of the dataset.\n",
      "36157 memes have more than 100 scores, 14.00% of the dataset.\n",
      "151454 memes have more than 10 scores, 58.63% of the dataset.\n",
      "174902 memes have more than 1 scores, 67.71% of the dataset.\n"
     ]
    }
   ],
   "source": [
    "for i in reversed(range(6)):\n",
    "    print('{} memes have more than {} scores, {:.2f}% of the dataset.'.format(sum(memes['score']>10**i),10**i,\n",
    "                                                                    sum(memes['score']>10**i)/len(memes)*100))"
   ]
  },
  {
   "cell_type": "markdown",
   "id": "young-raleigh",
   "metadata": {},
   "source": [
    "*Analyzing different percentiles*"
   ]
  },
  {
   "cell_type": "code",
   "execution_count": 10,
   "id": "abstract-rogers",
   "metadata": {
    "execution": {
     "iopub.execute_input": "2021-11-01T08:24:25.315468Z",
     "iopub.status.busy": "2021-11-01T08:24:25.314900Z",
     "iopub.status.idle": "2021-11-01T08:24:25.331305Z",
     "shell.execute_reply": "2021-11-01T08:24:25.330697Z"
    }
   },
   "outputs": [
    {
     "name": "stdout",
     "output_type": "stream",
     "text": [
      "The 99th percentile of the scores is at 11896.\n",
      "The 95th percentile of the scores is at 791.\n",
      "The 90th percentile of the scores is at 172.\n",
      "The 75th percentile of the scores is at 53.\n"
     ]
    }
   ],
   "source": [
    "for p in [0.99, 0.95, 0.9, 0.75]:\n",
    "    print(\"The {:.0f}th percentile of the scores is at {:.0f}.\".format(p*100,memes['score'].quantile(p)))"
   ]
  },
  {
   "cell_type": "markdown",
   "id": "advised-nebraska",
   "metadata": {},
   "source": [
    "**Scatterplot - scores of memes**\n",
    "\n",
    "*First on linear scale* - not a lot can be read from the early years."
   ]
  },
  {
   "cell_type": "code",
   "execution_count": 11,
   "id": "japanese-marks",
   "metadata": {
    "execution": {
     "iopub.execute_input": "2021-11-01T08:24:25.362244Z",
     "iopub.status.busy": "2021-11-01T08:24:25.353256Z",
     "iopub.status.idle": "2021-11-01T08:24:25.715157Z",
     "shell.execute_reply": "2021-11-01T08:24:25.715758Z"
    }
   },
   "outputs": [
    {
     "data": {
      "image/png": "[encoded data removed]",
      "text/plain": [
       "<Figure size 864x432 with 1 Axes>"
      ]
     },
     "metadata": {
      "needs_background": "light"
     },
     "output_type": "display_data"
    }
   ],
   "source": [
    "plt.figure(figsize=(12,6))\n",
    "plt.plot(memes['date'], memes['score'], 'o', markersize=3)\n",
    "plt.title('Scores of scraped memes 2011 and 2021 (linear scale)')\n",
    "plt.xlabel('Date of meme')\n",
    "plt.ylabel('Scores')\n",
    "plt.show()"
   ]
  },
  {
   "cell_type": "markdown",
   "id": "magnetic-moment",
   "metadata": {},
   "source": [
    "*Then on logarithmic scale* - notice that memes were able to reach a new magnitude of popularity by 2017, probably because the website (Reddit) was less popular the more we look back in the past."
   ]
  },
  {
   "cell_type": "code",
   "execution_count": 12,
   "id": "intensive-marijuana",
   "metadata": {
    "execution": {
     "iopub.execute_input": "2021-11-01T08:24:25.738663Z",
     "iopub.status.busy": "2021-11-01T08:24:25.727195Z",
     "iopub.status.idle": "2021-11-01T08:24:26.913634Z",
     "shell.execute_reply": "2021-11-01T08:24:26.914292Z"
    }
   },
   "outputs": [
    {
     "data": {
      "image/png": "[encoded data removed]",
      "text/plain": [
       "<Figure size 864x432 with 1 Axes>"
      ]
     },
     "metadata": {
      "needs_background": "light"
     },
     "output_type": "display_data"
    }
   ],
   "source": [
    "plt.figure(figsize=(12,6))\n",
    "plt.plot(memes['date'], memes['score'], 'o', markersize=3)\n",
    "plt.title('Scores of scraped memes 2011 and 2021 (logarithmic scale)')\n",
    "plt.xlabel('Date of meme')\n",
    "plt.ylabel('Scores')\n",
    "plt.yscale('log')\n",
    "plt.show()"
   ]
  },
  {
   "cell_type": "markdown",
   "id": "sexual-leather",
   "metadata": {},
   "source": [
    "**Visualizing all memes by sorting them by scores**"
   ]
  },
  {
   "cell_type": "code",
   "execution_count": 13,
   "id": "modular-adapter",
   "metadata": {
    "execution": {
     "iopub.execute_input": "2021-11-01T08:24:26.923074Z",
     "iopub.status.busy": "2021-11-01T08:24:26.922399Z",
     "iopub.status.idle": "2021-11-01T08:24:27.880645Z",
     "shell.execute_reply": "2021-11-01T08:24:27.878934Z"
    }
   },
   "outputs": [
    {
     "data": {
      "image/png": "[encoded data removed]",
      "text/plain": [
       "<Figure size 864x432 with 1 Axes>"
      ]
     },
     "metadata": {
      "needs_background": "light"
     },
     "output_type": "display_data"
    }
   ],
   "source": [
    "memes['score'].sort_values(ascending=False).reset_index(drop=True).plot(style='.',figsize=(12, 6))\n",
    "plt.title('Sorted scores of scraped memes 2011 and 2021 (logarithmic scale)')\n",
    "plt.xlabel('Rank of meme by score')\n",
    "plt.ylabel('Scores')\n",
    "plt.yscale('log')\n",
    "plt.show()"
   ]
  },
  {
   "cell_type": "markdown",
   "id": "scenic-actress",
   "metadata": {},
   "source": [
    "**Preparation for learning - labeling the memes**\n",
    "\n",
    "In our approach, we consider a meme \"popular\", \"viral\" or \"dank\", if it receives more scores than the memes around it. To be exact, we will be looking at the week around the meme (+/- 3 days, as well as the day the meme was posted). If the scores is in the 95th percentile in that window, the meme will be considered dank."
   ]
  },
  {
   "cell_type": "code",
   "execution_count": 14,
   "id": "completed-bridal",
   "metadata": {
    "execution": {
     "iopub.execute_input": "2021-11-01T08:24:27.890375Z",
     "iopub.status.busy": "2021-11-01T08:24:27.889199Z",
     "iopub.status.idle": "2021-11-01T08:24:27.893321Z",
     "shell.execute_reply": "2021-11-01T08:24:27.891960Z"
    }
   },
   "outputs": [],
   "source": [
    "def window_filter(date, df=memes, before=3, after=3):\n",
    "    \"\"\"\n",
    "    window_filter filters the given dataset, so that it only returns rows in a given date range.\n",
    "    \n",
    "    :param date: the central date of the window, it will always be kept in the filtered dataframe\n",
    "    :param df: the dataset which is being filtered, by default the memes dataset\n",
    "    :param before: number of days before the date parameter which is kept in the filtered dataframe (3 by default)\n",
    "    :param after: number of days after the date parameter which is kept in the filtered dataframe (3 by default)\n",
    "    :return: a data frame which covers rows from a before+after+1 long date range, centered in date\n",
    "    \"\"\"\n",
    "    start = pd.to_datetime(date)-pd.DateOffset(before)\n",
    "    end = pd.to_datetime(date)+pd.DateOffset(after)\n",
    "    return df[(df['date'] >= start) & (df['date'] <= end)]"
   ]
  },
  {
   "cell_type": "markdown",
   "id": "fossil-score",
   "metadata": {},
   "source": [
    "**Create a dataframe where the scores and the \"dank\" threshold can be compared**\n",
    "\n",
    "Is_Dank is a new binary indicator variable which is 1 if it is popular enough, described above."
   ]
  },
  {
   "cell_type": "code",
   "execution_count": 15,
   "id": "appreciated-click",
   "metadata": {
    "execution": {
     "iopub.execute_input": "2021-11-01T08:24:27.906078Z",
     "iopub.status.busy": "2021-11-01T08:24:27.905085Z",
     "iopub.status.idle": "2021-11-01T08:39:37.157132Z",
     "shell.execute_reply": "2021-11-01T08:39:37.156516Z"
    }
   },
   "outputs": [
    {
     "data": {
      "text/html": [
       "<div>\n",
       "<style scoped>\n",
       "    .dataframe tbody tr th:only-of-type {\n",
       "        vertical-align: middle;\n",
       "    }\n",
       "\n",
       "    .dataframe tbody tr th {\n",
       "        vertical-align: top;\n",
       "    }\n",
       "\n",
       "    .dataframe thead th {\n",
       "        text-align: right;\n",
       "    }\n",
       "</style>\n",
       "<table border=\"1\" class=\"dataframe\">\n",
       "  <thead>\n",
       "    <tr style=\"text-align: right;\">\n",
       "      <th></th>\n",
       "      <th>id</th>\n",
       "      <th>score</th>\n",
       "      <th>threshold</th>\n",
       "      <th>is_dank</th>\n",
       "    </tr>\n",
       "  </thead>\n",
       "  <tbody>\n",
       "    <tr>\n",
       "      <th>0</th>\n",
       "      <td>2011.02.16_0</td>\n",
       "      <td>0</td>\n",
       "      <td>0.00</td>\n",
       "      <td>0</td>\n",
       "    </tr>\n",
       "    <tr>\n",
       "      <th>1</th>\n",
       "      <td>2011.03.15_0</td>\n",
       "      <td>5</td>\n",
       "      <td>5.00</td>\n",
       "      <td>0</td>\n",
       "    </tr>\n",
       "    <tr>\n",
       "      <th>2</th>\n",
       "      <td>2011.04.30_0</td>\n",
       "      <td>1</td>\n",
       "      <td>1.00</td>\n",
       "      <td>0</td>\n",
       "    </tr>\n",
       "    <tr>\n",
       "      <th>3</th>\n",
       "      <td>2011.06.20_0</td>\n",
       "      <td>0</td>\n",
       "      <td>0.95</td>\n",
       "      <td>0</td>\n",
       "    </tr>\n",
       "    <tr>\n",
       "      <th>4</th>\n",
       "      <td>2011.06.22_0</td>\n",
       "      <td>1</td>\n",
       "      <td>0.95</td>\n",
       "      <td>1</td>\n",
       "    </tr>\n",
       "    <tr>\n",
       "      <th>...</th>\n",
       "      <td>...</td>\n",
       "      <td>...</td>\n",
       "      <td>...</td>\n",
       "      <td>...</td>\n",
       "    </tr>\n",
       "    <tr>\n",
       "      <th>258310</th>\n",
       "      <td>2021.10.16_156</td>\n",
       "      <td>37</td>\n",
       "      <td>625.00</td>\n",
       "      <td>0</td>\n",
       "    </tr>\n",
       "    <tr>\n",
       "      <th>258311</th>\n",
       "      <td>2021.10.16_157</td>\n",
       "      <td>19</td>\n",
       "      <td>625.00</td>\n",
       "      <td>0</td>\n",
       "    </tr>\n",
       "    <tr>\n",
       "      <th>258312</th>\n",
       "      <td>2021.10.16_158</td>\n",
       "      <td>1</td>\n",
       "      <td>625.00</td>\n",
       "      <td>0</td>\n",
       "    </tr>\n",
       "    <tr>\n",
       "      <th>258313</th>\n",
       "      <td>2021.10.16_159</td>\n",
       "      <td>25</td>\n",
       "      <td>625.00</td>\n",
       "      <td>0</td>\n",
       "    </tr>\n",
       "    <tr>\n",
       "      <th>258314</th>\n",
       "      <td>2021.10.16_160</td>\n",
       "      <td>46</td>\n",
       "      <td>625.00</td>\n",
       "      <td>0</td>\n",
       "    </tr>\n",
       "  </tbody>\n",
       "</table>\n",
       "<p>258315 rows × 4 columns</p>\n",
       "</div>"
      ],
      "text/plain": [
       "                    id  score  threshold  is_dank\n",
       "0         2011.02.16_0      0       0.00        0\n",
       "1         2011.03.15_0      5       5.00        0\n",
       "2         2011.04.30_0      1       1.00        0\n",
       "3         2011.06.20_0      0       0.95        0\n",
       "4         2011.06.22_0      1       0.95        1\n",
       "...                ...    ...        ...      ...\n",
       "258310  2021.10.16_156     37     625.00        0\n",
       "258311  2021.10.16_157     19     625.00        0\n",
       "258312  2021.10.16_158      1     625.00        0\n",
       "258313  2021.10.16_159     25     625.00        0\n",
       "258314  2021.10.16_160     46     625.00        0\n",
       "\n",
       "[258315 rows x 4 columns]"
      ]
     },
     "execution_count": 15,
     "metadata": {},
     "output_type": "execute_result"
    }
   ],
   "source": [
    "data=[]\n",
    "for index, row in memes.iterrows():\n",
    "    data.append([row['id'],  row['score'],\n",
    "                 window_filter(row['date']).quantile(0.95)[0],\n",
    "                 int(row['score']>window_filter(row['date']).quantile(0.95)[0])])\n",
    "    \n",
    "dank = pd.DataFrame(data, columns=['id', 'score', 'threshold', 'is_dank'])\n",
    "dank"
   ]
  },
  {
   "cell_type": "markdown",
   "id": "running-trail",
   "metadata": {},
   "source": [
    "**Copying the binary variable to the main dataframe, exporting as .csv**"
   ]
  },
  {
   "cell_type": "code",
   "execution_count": 16,
   "id": "express-cornell",
   "metadata": {
    "execution": {
     "iopub.execute_input": "2021-11-01T08:39:37.171748Z",
     "iopub.status.busy": "2021-11-01T08:39:37.170899Z",
     "iopub.status.idle": "2021-11-01T08:39:37.174803Z",
     "shell.execute_reply": "2021-11-01T08:39:37.174235Z"
    }
   },
   "outputs": [
    {
     "data": {
      "text/html": [
       "<div>\n",
       "<style scoped>\n",
       "    .dataframe tbody tr th:only-of-type {\n",
       "        vertical-align: middle;\n",
       "    }\n",
       "\n",
       "    .dataframe tbody tr th {\n",
       "        vertical-align: top;\n",
       "    }\n",
       "\n",
       "    .dataframe thead th {\n",
       "        text-align: right;\n",
       "    }\n",
       "</style>\n",
       "<table border=\"1\" class=\"dataframe\">\n",
       "  <thead>\n",
       "    <tr style=\"text-align: right;\">\n",
       "      <th></th>\n",
       "      <th>id</th>\n",
       "      <th>title</th>\n",
       "      <th>score</th>\n",
       "      <th>fname</th>\n",
       "      <th>date</th>\n",
       "      <th>is_dank</th>\n",
       "    </tr>\n",
       "  </thead>\n",
       "  <tbody>\n",
       "    <tr>\n",
       "      <th>0</th>\n",
       "      <td>2011.02.16_0</td>\n",
       "      <td>Scumbag Reddit</td>\n",
       "      <td>0</td>\n",
       "      <td>2011.02.16_0.jpg</td>\n",
       "      <td>2011-02-16</td>\n",
       "      <td>0</td>\n",
       "    </tr>\n",
       "    <tr>\n",
       "      <th>1</th>\n",
       "      <td>2011.03.15_0</td>\n",
       "      <td>Xpost from pics. Oriental-Stereotype Wolf.</td>\n",
       "      <td>5</td>\n",
       "      <td>2011.03.15_0.jpg</td>\n",
       "      <td>2011-03-15</td>\n",
       "      <td>0</td>\n",
       "    </tr>\n",
       "    <tr>\n",
       "      <th>2</th>\n",
       "      <td>2011.04.30_0</td>\n",
       "      <td>Hipster Vault Boy</td>\n",
       "      <td>1</td>\n",
       "      <td>2011.04.30_0.jpg</td>\n",
       "      <td>2011-04-30</td>\n",
       "      <td>0</td>\n",
       "    </tr>\n",
       "    <tr>\n",
       "      <th>3</th>\n",
       "      <td>2011.06.20_0</td>\n",
       "      <td>I drew this for a friend while having a conver...</td>\n",
       "      <td>0</td>\n",
       "      <td>2011.06.20_0.png</td>\n",
       "      <td>2011-06-20</td>\n",
       "      <td>0</td>\n",
       "    </tr>\n",
       "    <tr>\n",
       "      <th>4</th>\n",
       "      <td>2011.06.22_0</td>\n",
       "      <td>Pai Troll</td>\n",
       "      <td>1</td>\n",
       "      <td>2011.06.22_0.jpg</td>\n",
       "      <td>2011-06-22</td>\n",
       "      <td>1</td>\n",
       "    </tr>\n",
       "    <tr>\n",
       "      <th>...</th>\n",
       "      <td>...</td>\n",
       "      <td>...</td>\n",
       "      <td>...</td>\n",
       "      <td>...</td>\n",
       "      <td>...</td>\n",
       "      <td>...</td>\n",
       "    </tr>\n",
       "    <tr>\n",
       "      <th>258310</th>\n",
       "      <td>2021.10.16_156</td>\n",
       "      <td>A rare siting of Ups trucks mating in the wild.</td>\n",
       "      <td>37</td>\n",
       "      <td>2021.10.16_156.png</td>\n",
       "      <td>2021-10-16</td>\n",
       "      <td>0</td>\n",
       "    </tr>\n",
       "    <tr>\n",
       "      <th>258311</th>\n",
       "      <td>2021.10.16_157</td>\n",
       "      <td>Majestic eagles.</td>\n",
       "      <td>19</td>\n",
       "      <td>2021.10.16_157.png</td>\n",
       "      <td>2021-10-16</td>\n",
       "      <td>0</td>\n",
       "    </tr>\n",
       "    <tr>\n",
       "      <th>258312</th>\n",
       "      <td>2021.10.16_158</td>\n",
       "      <td>This is what you get when you search 139808. J...</td>\n",
       "      <td>1</td>\n",
       "      <td>2021.10.16_158.png</td>\n",
       "      <td>2021-10-16</td>\n",
       "      <td>0</td>\n",
       "    </tr>\n",
       "    <tr>\n",
       "      <th>258313</th>\n",
       "      <td>2021.10.16_159</td>\n",
       "      <td>looping in the life be like...</td>\n",
       "      <td>25</td>\n",
       "      <td>2021.10.16_159.png</td>\n",
       "      <td>2021-10-16</td>\n",
       "      <td>0</td>\n",
       "    </tr>\n",
       "    <tr>\n",
       "      <th>258314</th>\n",
       "      <td>2021.10.16_160</td>\n",
       "      <td>Scheduling my next appointment</td>\n",
       "      <td>46</td>\n",
       "      <td>2021.10.16_160.png</td>\n",
       "      <td>2021-10-16</td>\n",
       "      <td>0</td>\n",
       "    </tr>\n",
       "  </tbody>\n",
       "</table>\n",
       "<p>258315 rows × 6 columns</p>\n",
       "</div>"
      ],
      "text/plain": [
       "                    id                                              title  \\\n",
       "0         2011.02.16_0                                     Scumbag Reddit   \n",
       "1         2011.03.15_0         Xpost from pics. Oriental-Stereotype Wolf.   \n",
       "2         2011.04.30_0                                  Hipster Vault Boy   \n",
       "3         2011.06.20_0  I drew this for a friend while having a conver...   \n",
       "4         2011.06.22_0                                          Pai Troll   \n",
       "...                ...                                                ...   \n",
       "258310  2021.10.16_156    A rare siting of Ups trucks mating in the wild.   \n",
       "258311  2021.10.16_157                                   Majestic eagles.   \n",
       "258312  2021.10.16_158  This is what you get when you search 139808. J...   \n",
       "258313  2021.10.16_159                     looping in the life be like...   \n",
       "258314  2021.10.16_160                     Scheduling my next appointment   \n",
       "\n",
       "        score               fname       date  is_dank  \n",
       "0           0    2011.02.16_0.jpg 2011-02-16        0  \n",
       "1           5    2011.03.15_0.jpg 2011-03-15        0  \n",
       "2           1    2011.04.30_0.jpg 2011-04-30        0  \n",
       "3           0    2011.06.20_0.png 2011-06-20        0  \n",
       "4           1    2011.06.22_0.jpg 2011-06-22        1  \n",
       "...       ...                 ...        ...      ...  \n",
       "258310     37  2021.10.16_156.png 2021-10-16        0  \n",
       "258311     19  2021.10.16_157.png 2021-10-16        0  \n",
       "258312      1  2021.10.16_158.png 2021-10-16        0  \n",
       "258313     25  2021.10.16_159.png 2021-10-16        0  \n",
       "258314     46  2021.10.16_160.png 2021-10-16        0  \n",
       "\n",
       "[258315 rows x 6 columns]"
      ]
     },
     "execution_count": 16,
     "metadata": {},
     "output_type": "execute_result"
    }
   ],
   "source": [
    "memes['is_dank'] = dank['is_dank']\n",
    "memes"
   ]
  },
  {
   "cell_type": "code",
   "execution_count": 17,
   "id": "abroad-password",
   "metadata": {
    "execution": {
     "iopub.execute_input": "2021-11-01T08:39:37.204831Z",
     "iopub.status.busy": "2021-11-01T08:39:37.204282Z",
     "iopub.status.idle": "2021-11-01T08:39:37.206799Z",
     "shell.execute_reply": "2021-11-01T08:39:37.207371Z"
    }
   },
   "outputs": [
    {
     "name": "stdout",
     "output_type": "stream",
     "text": [
      "13142 memes are considered \"dank\" from the dataset, a ratio of 5.09%\n"
     ]
    }
   ],
   "source": [
    "print('{} memes are considered \"dank\" from the dataset, a ratio of {:.2f}%'.format(\n",
    "    sum(memes['is_dank']),sum(memes['is_dank'])/len(memes)*100))"
   ]
  },
  {
   "cell_type": "code",
   "execution_count": 18,
   "id": "4651d271",
   "metadata": {
    "execution": {
     "iopub.execute_input": "2021-11-01T08:39:37.212014Z",
     "iopub.status.busy": "2021-11-01T08:39:37.211206Z",
     "iopub.status.idle": "2021-11-01T08:39:37.213472Z",
     "shell.execute_reply": "2021-11-01T08:39:37.214082Z"
    }
   },
   "outputs": [],
   "source": [
    "memes.to_csv('./output/memes_prepared.csv', index = False)"
   ]
  },
  {
   "cell_type": "code",
   "execution_count": null,
   "id": "ac598431",
   "metadata": {},
   "outputs": [],
   "source": []
  }
 ],
 "metadata": {
  "kernelspec": {
   "display_name": "Python 3 (ipykernel)",
   "language": "python",
   "name": "python3"
  },
  "language_info": {
   "codemirror_mode": {
    "name": "ipython",
    "version": 3
   },
   "file_extension": ".py",
   "mimetype": "text/x-python",
   "name": "python",
   "nbconvert_exporter": "python",
   "pygments_lexer": "ipython3",
   "version": "3.8.10"
  }
 },
 "nbformat": 4,
 "nbformat_minor": 5
}
